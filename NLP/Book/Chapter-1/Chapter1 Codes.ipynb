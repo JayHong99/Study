{
 "cells": [
  {
   "cell_type": "markdown",
   "id": "f4a90c59",
   "metadata": {},
   "source": [
    "## 1.4 Pytorch 기본"
   ]
  },
  {
   "cell_type": "markdown",
   "id": "79440ec7",
   "metadata": {},
   "source": [
    "## 1.4.1 Install Pytorch "
   ]
  },
  {
   "cell_type": "markdown",
   "id": "65d3eebd",
   "metadata": {},
   "source": [
    "- conda install pytorch torchvision torchaudio cpuonly -c pytorch\n",
    "- 생략"
   ]
  },
  {
   "cell_type": "markdown",
   "id": "0bc578a3",
   "metadata": {},
   "source": [
    "## 1.4.2 Tensor 만들기"
   ]
  },
  {
   "cell_type": "code",
   "execution_count": 1,
   "id": "e917a074",
   "metadata": {},
   "outputs": [
    {
     "name": "stdout",
     "output_type": "stream",
     "text": [
      "타입 : torch.FloatTensor\n",
      "크기 : torch.Size([2, 3])\n",
      "값   : \n",
      "tensor([[0., 0., 0.],\n",
      "        [0., 0., 0.]])\n"
     ]
    }
   ],
   "source": [
    "def describe(x) :\n",
    "    print(f'타입 : {x.type()}')\n",
    "    print(f'크기 : {x.shape}')\n",
    "    print(f'값   : \\n{x}')\n",
    "import torch\n",
    "describe(torch.Tensor(2,3))"
   ]
  },
  {
   "cell_type": "markdown",
   "id": "dff5481c",
   "metadata": {},
   "source": [
    "- 균등 분포"
   ]
  },
  {
   "cell_type": "code",
   "execution_count": 2,
   "id": "06c5bb05",
   "metadata": {},
   "outputs": [
    {
     "name": "stdout",
     "output_type": "stream",
     "text": [
      "타입 : torch.FloatTensor\n",
      "크기 : torch.Size([2, 3])\n",
      "값   : \n",
      "tensor([[0.0379, 0.6189, 0.3720],\n",
      "        [0.1960, 0.3494, 0.8956]])\n"
     ]
    }
   ],
   "source": [
    "describe(torch.rand(2,3))"
   ]
  },
  {
   "cell_type": "markdown",
   "id": "f662070c",
   "metadata": {},
   "source": [
    "- 표준 정규 분포"
   ]
  },
  {
   "cell_type": "code",
   "execution_count": 3,
   "id": "bffae0dc",
   "metadata": {},
   "outputs": [
    {
     "name": "stdout",
     "output_type": "stream",
     "text": [
      "타입 : torch.FloatTensor\n",
      "크기 : torch.Size([2, 3])\n",
      "값   : \n",
      "tensor([[ 0.8215,  1.1581, -0.7917],\n",
      "        [ 0.0721, -1.1431, -0.2949]])\n"
     ]
    }
   ],
   "source": [
    "describe(torch.randn(2,3))"
   ]
  },
  {
   "cell_type": "code",
   "execution_count": 4,
   "id": "dad90927",
   "metadata": {},
   "outputs": [
    {
     "name": "stdout",
     "output_type": "stream",
     "text": [
      "타입 : torch.FloatTensor\n",
      "크기 : torch.Size([2, 3])\n",
      "값   : \n",
      "tensor([[0., 0., 0.],\n",
      "        [0., 0., 0.]])\n"
     ]
    }
   ],
   "source": [
    "describe(torch.zeros(2,3))"
   ]
  },
  {
   "cell_type": "code",
   "execution_count": 5,
   "id": "f563561e",
   "metadata": {},
   "outputs": [
    {
     "name": "stdout",
     "output_type": "stream",
     "text": [
      "타입 : torch.DoubleTensor\n",
      "크기 : torch.Size([2, 3])\n",
      "값   : \n",
      "tensor([[0.5771, 0.5273, 0.6005],\n",
      "        [0.3428, 0.5278, 0.5210]], dtype=torch.float64)\n"
     ]
    }
   ],
   "source": [
    "import numpy as np\n",
    "\n",
    "npy = np.random.rand(2,3)\n",
    "describe(torch.from_numpy(npy))"
   ]
  },
  {
   "cell_type": "markdown",
   "id": "4b5c100d",
   "metadata": {},
   "source": [
    "## 1.4.3 Tensor Type\n",
    "- Float\n",
    "- Long (= Int)\n",
    "- Double"
   ]
  },
  {
   "cell_type": "code",
   "execution_count": 6,
   "id": "69da8524",
   "metadata": {},
   "outputs": [
    {
     "name": "stdout",
     "output_type": "stream",
     "text": [
      "타입 : torch.LongTensor\n",
      "크기 : torch.Size([2, 3])\n",
      "값   : \n",
      "tensor([[1, 2, 3],\n",
      "        [4, 5, 6]])\n"
     ]
    }
   ],
   "source": [
    "x = torch.FloatTensor([[1,2,3],[4,5,6]])\n",
    "x = x.long()\n",
    "describe(x)"
   ]
  },
  {
   "cell_type": "code",
   "execution_count": 7,
   "id": "04af6489",
   "metadata": {},
   "outputs": [
    {
     "name": "stdout",
     "output_type": "stream",
     "text": [
      "타입 : torch.LongTensor\n",
      "크기 : torch.Size([2, 3])\n",
      "값   : \n",
      "tensor([[1, 2, 3],\n",
      "        [4, 5, 6]])\n"
     ]
    }
   ],
   "source": [
    "x = torch.tensor([[1,2,3],[4,5,6]], dtype = torch.int64)\n",
    "describe(x)"
   ]
  },
  {
   "cell_type": "code",
   "execution_count": 8,
   "id": "3cb2905d",
   "metadata": {},
   "outputs": [
    {
     "name": "stdout",
     "output_type": "stream",
     "text": [
      "타입 : torch.FloatTensor\n",
      "크기 : torch.Size([2, 3])\n",
      "값   : \n",
      "tensor([[1., 2., 3.],\n",
      "        [4., 5., 6.]])\n"
     ]
    }
   ],
   "source": [
    "x = x.float()\n",
    "describe(x)"
   ]
  },
  {
   "cell_type": "markdown",
   "id": "a702d45a",
   "metadata": {},
   "source": [
    "## 1.4.4 텐서 연산\n",
    "- add, +-*/ 등 사칙연산 가능\n",
    "- view : 차원 변환"
   ]
  },
  {
   "cell_type": "code",
   "execution_count": 9,
   "id": "3e313806",
   "metadata": {},
   "outputs": [
    {
     "name": "stdout",
     "output_type": "stream",
     "text": [
      "타입 : torch.FloatTensor\n",
      "크기 : torch.Size([2, 3])\n",
      "값   : \n",
      "tensor([[ 0.1397,  0.3842, -0.6742],\n",
      "        [ 1.0564, -0.2089, -0.2356]])\n"
     ]
    }
   ],
   "source": [
    "x = torch.randn(2,3)\n",
    "describe(x)"
   ]
  },
  {
   "cell_type": "code",
   "execution_count": 10,
   "id": "9054a804",
   "metadata": {},
   "outputs": [
    {
     "name": "stdout",
     "output_type": "stream",
     "text": [
      "타입 : torch.FloatTensor\n",
      "크기 : torch.Size([2, 3])\n",
      "값   : \n",
      "tensor([[ 0.2793,  0.7683, -1.3485],\n",
      "        [ 2.1129, -0.4178, -0.4712]])\n"
     ]
    }
   ],
   "source": [
    "describe(torch.add(x,x))"
   ]
  },
  {
   "cell_type": "code",
   "execution_count": 11,
   "id": "12ee9607",
   "metadata": {},
   "outputs": [
    {
     "name": "stdout",
     "output_type": "stream",
     "text": [
      "타입 : torch.FloatTensor\n",
      "크기 : torch.Size([2, 3])\n",
      "값   : \n",
      "tensor([[ 0.2793,  0.7683, -1.3485],\n",
      "        [ 2.1129, -0.4178, -0.4712]])\n"
     ]
    }
   ],
   "source": [
    "describe(x + x)"
   ]
  },
  {
   "cell_type": "code",
   "execution_count": 12,
   "id": "22b08e8d",
   "metadata": {},
   "outputs": [
    {
     "name": "stdout",
     "output_type": "stream",
     "text": [
      "타입 : torch.LongTensor\n",
      "크기 : torch.Size([6])\n",
      "값   : \n",
      "tensor([0, 1, 2, 3, 4, 5])\n"
     ]
    }
   ],
   "source": [
    "x = torch.arange(6)\n",
    "describe(x)"
   ]
  },
  {
   "cell_type": "code",
   "execution_count": 13,
   "id": "d72ef253",
   "metadata": {},
   "outputs": [
    {
     "name": "stdout",
     "output_type": "stream",
     "text": [
      "타입 : torch.LongTensor\n",
      "크기 : torch.Size([2, 3])\n",
      "값   : \n",
      "tensor([[0, 1, 2],\n",
      "        [3, 4, 5]])\n"
     ]
    }
   ],
   "source": [
    "x = x.view(2,3)\n",
    "describe(x)"
   ]
  },
  {
   "cell_type": "markdown",
   "id": "6e254dab",
   "metadata": {},
   "source": [
    "## 1.4.5 인덱싱, 슬라이싱, 연결"
   ]
  },
  {
   "cell_type": "code",
   "execution_count": 14,
   "id": "1a35d020",
   "metadata": {},
   "outputs": [
    {
     "name": "stdout",
     "output_type": "stream",
     "text": [
      "타입 : torch.LongTensor\n",
      "크기 : torch.Size([2, 3])\n",
      "값   : \n",
      "tensor([[0, 1, 2],\n",
      "        [3, 4, 5]])\n"
     ]
    }
   ],
   "source": [
    "x = torch.arange(6).view(2,3)\n",
    "describe(x)"
   ]
  },
  {
   "cell_type": "code",
   "execution_count": 15,
   "id": "9c87f760",
   "metadata": {},
   "outputs": [
    {
     "name": "stdout",
     "output_type": "stream",
     "text": [
      "타입 : torch.LongTensor\n",
      "크기 : torch.Size([1, 2])\n",
      "값   : \n",
      "tensor([[0, 1]])\n"
     ]
    }
   ],
   "source": [
    "describe(x[:1,:2])"
   ]
  },
  {
   "cell_type": "code",
   "execution_count": 16,
   "id": "9abf7c15",
   "metadata": {},
   "outputs": [
    {
     "name": "stdout",
     "output_type": "stream",
     "text": [
      "타입 : torch.LongTensor\n",
      "크기 : torch.Size([])\n",
      "값   : \n",
      "1\n"
     ]
    }
   ],
   "source": [
    "describe(x[0,1])"
   ]
  },
  {
   "cell_type": "code",
   "execution_count": 17,
   "id": "a1890ff9",
   "metadata": {},
   "outputs": [
    {
     "name": "stdout",
     "output_type": "stream",
     "text": [
      "타입 : torch.LongTensor\n",
      "크기 : torch.Size([2, 2])\n",
      "값   : \n",
      "tensor([[0, 2],\n",
      "        [3, 5]])\n"
     ]
    }
   ],
   "source": [
    "indices = torch.LongTensor([0,2])\n",
    "describe(torch.index_select(x, dim = 1 , index = indices))"
   ]
  },
  {
   "cell_type": "code",
   "execution_count": 18,
   "id": "e80c4307",
   "metadata": {},
   "outputs": [
    {
     "name": "stdout",
     "output_type": "stream",
     "text": [
      "타입 : torch.LongTensor\n",
      "크기 : torch.Size([2, 3])\n",
      "값   : \n",
      "tensor([[0, 1, 2],\n",
      "        [3, 4, 5]])\n"
     ]
    }
   ],
   "source": [
    "x = torch.arange(6).view(2,3)\n",
    "describe(x)"
   ]
  },
  {
   "cell_type": "code",
   "execution_count": 19,
   "id": "899f8fa5",
   "metadata": {},
   "outputs": [
    {
     "name": "stdout",
     "output_type": "stream",
     "text": [
      "타입 : torch.LongTensor\n",
      "크기 : torch.Size([2, 6])\n",
      "값   : \n",
      "tensor([[0, 1, 2, 0, 1, 2],\n",
      "        [3, 4, 5, 3, 4, 5]])\n"
     ]
    }
   ],
   "source": [
    "describe(torch.cat([x,x], dim = 1))"
   ]
  },
  {
   "cell_type": "code",
   "execution_count": 20,
   "id": "66783a83",
   "metadata": {},
   "outputs": [
    {
     "name": "stdout",
     "output_type": "stream",
     "text": [
      "타입 : torch.LongTensor\n",
      "크기 : torch.Size([2, 3])\n",
      "값   : \n",
      "tensor([[0, 1, 2],\n",
      "        [3, 4, 5]])\n"
     ]
    }
   ],
   "source": [
    "x1 = torch.arange(6).view(2,3)\n",
    "describe(x1)"
   ]
  },
  {
   "cell_type": "code",
   "execution_count": 21,
   "id": "ae8e6f55",
   "metadata": {},
   "outputs": [
    {
     "name": "stdout",
     "output_type": "stream",
     "text": [
      "타입 : torch.FloatTensor\n",
      "크기 : torch.Size([3, 2])\n",
      "값   : \n",
      "tensor([[1., 2.],\n",
      "        [1., 2.],\n",
      "        [1., 2.]])\n"
     ]
    }
   ],
   "source": [
    "x2 = torch.ones(3,2)\n",
    "x2[:,1]+=1\n",
    "describe(x2)"
   ]
  },
  {
   "cell_type": "markdown",
   "id": "cc0eeb79",
   "metadata": {},
   "source": [
    "## 1.4.6 텐서와 계산 그래프"
   ]
  },
  {
   "cell_type": "code",
   "execution_count": 22,
   "id": "34846b8d",
   "metadata": {},
   "outputs": [
    {
     "name": "stdout",
     "output_type": "stream",
     "text": [
      "타입 : torch.FloatTensor\n",
      "크기 : torch.Size([2, 2])\n",
      "값   : \n",
      "tensor([[1., 1.],\n",
      "        [1., 1.]], requires_grad=True)\n",
      "True\n"
     ]
    }
   ],
   "source": [
    "x = torch.ones(2,2, requires_grad = True)\n",
    "describe(x)\n",
    "print(x.grad is None)"
   ]
  },
  {
   "cell_type": "markdown",
   "id": "47e090fb",
   "metadata": {},
   "source": [
    "- grad를 하면, 정방향 계산 값 기록 가능. backward()를 통해서 호출해 시작 가능\n",
    "- Optimizer는 grad 속성을 통해서 파라미터 값 업데이트 가능"
   ]
  },
  {
   "cell_type": "code",
   "execution_count": 23,
   "id": "cd3d672a",
   "metadata": {},
   "outputs": [
    {
     "name": "stdout",
     "output_type": "stream",
     "text": [
      "타입 : torch.FloatTensor\n",
      "크기 : torch.Size([2, 2])\n",
      "값   : \n",
      "tensor([[21., 21.],\n",
      "        [21., 21.]], grad_fn=<AddBackward0>)\n",
      "True\n"
     ]
    }
   ],
   "source": [
    "y = (x + 2) * (x + 5) + 3\n",
    "describe(y)\n",
    "print(x.grad is None)"
   ]
  },
  {
   "cell_type": "markdown",
   "id": "6f1a735b",
   "metadata": {},
   "source": [
    "## 1.4.7 CUDA 텐서\n",
    "- GPU 할당 필요"
   ]
  },
  {
   "cell_type": "code",
   "execution_count": 24,
   "id": "9e79b112",
   "metadata": {},
   "outputs": [
    {
     "name": "stdout",
     "output_type": "stream",
     "text": [
      "True\n"
     ]
    }
   ],
   "source": [
    "print(torch.cuda.is_available())"
   ]
  },
  {
   "cell_type": "code",
   "execution_count": 25,
   "id": "3085e325",
   "metadata": {},
   "outputs": [
    {
     "name": "stdout",
     "output_type": "stream",
     "text": [
      "타입 : torch.cuda.FloatTensor\n",
      "크기 : torch.Size([3, 3])\n",
      "값   : \n",
      "tensor([[0.5808, 0.2235, 0.5010],\n",
      "        [0.8312, 0.8012, 0.1918],\n",
      "        [0.7215, 0.1405, 0.0701]], device='cuda:0')\n"
     ]
    }
   ],
   "source": [
    "device = torch.device('cuda' if torch.cuda.is_available() else 'cpu')\n",
    "x = torch.rand(3,3).to(device)\n",
    "describe(x)"
   ]
  }
 ],
 "metadata": {
  "interpreter": {
   "hash": "b3ba2566441a7c06988d0923437866b63cedc61552a5af99d1f4fb67d367b25f"
  },
  "kernelspec": {
   "display_name": "Python 3.8.8 64-bit ('base': conda)",
   "language": "python",
   "name": "python3"
  },
  "language_info": {
   "codemirror_mode": {
    "name": "ipython",
    "version": 3
   },
   "file_extension": ".py",
   "mimetype": "text/x-python",
   "name": "python",
   "nbconvert_exporter": "python",
   "pygments_lexer": "ipython3",
   "version": "3.8.8"
  }
 },
 "nbformat": 4,
 "nbformat_minor": 5
}
