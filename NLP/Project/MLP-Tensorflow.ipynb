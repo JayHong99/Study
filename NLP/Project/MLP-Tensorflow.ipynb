{
 "cells": [
  {
   "cell_type": "markdown",
   "metadata": {},
   "source": [
    "# MLP - Tensorflow\n",
    "---\n",
    "# Order\n",
    "## 0. Library\n",
    "## 1. Load Data\n",
    "## 2. Clean Data\n",
    "## 3. Make Vocab & Vectorize\n",
    "## 4. Modeling\n",
    "## 5. Submit\n",
    "---"
   ]
  },
  {
   "cell_type": "code",
   "execution_count": null,
   "metadata": {},
   "outputs": [],
   "source": [
    "!nvidia-smi"
   ]
  },
  {
   "cell_type": "markdown",
   "metadata": {},
   "source": [
    "# 0. Library"
   ]
  },
  {
   "cell_type": "code",
   "execution_count": null,
   "metadata": {},
   "outputs": [],
   "source": [
    "# 1. Load Data\n",
    "from Closed import load_data\n",
    "import pandas as pd\n",
    "import numpy as np\n",
    "\n",
    "# 2. Clean Data\n",
    "import hanja\n",
    "import re\n",
    "\n",
    "# 3. Make Vocab & Vectorize\n",
    "from tokenizers import ByteLevelBPETokenizer\n",
    "import tensorflow as tf\n",
    "from tensorflow.keras.preprocessing.sequence import pad_sequences\n",
    "\n",
    "# 4. Modeling\n",
    "from tensorflow.keras.models import Model\n",
    "from tensorflow.keras.layers import *\n",
    "from tensorflow.keras.callbacks import ModelCheckpoint, ReduceLROnPlateau, EarlyStopping\n",
    "tf.compat.v1.enable_eager_execution()\n",
    "import tensorflow.keras.backend as K\n",
    "from sklearn.model_selection import StratifiedKFold\n",
    "\n",
    "os.environ[\"CUDA_VISIBLE_DEVICES\"]=\"0\"\n",
    "gpus = tf.config.experimental.list_physical_devices('GPU')\n",
    "if gpus:\n",
    "    try:\n",
    "        for gpu in gpus:\n",
    "            tf.config.experimental.set_memory_growth(gpu, True)\n",
    "    except RuntimeError as e:\n",
    "        print(e)\n",
    "\n",
    "\n",
    "\n",
    "# 5. Subission\n",
    "from Closed import get_token\n",
    "from dacon_submit_api import dacon_submit_api \n",
    "\n",
    "# 6. Others\n",
    "import warnings\n",
    "warnings.filterwarnings(\"ignore\")\n",
    "warnings.simplefilter('ignore')\n"
   ]
  },
  {
   "cell_type": "markdown",
   "metadata": {},
   "source": [
    "# 1. Load Data"
   ]
  },
  {
   "cell_type": "code",
   "execution_count": null,
   "metadata": {},
   "outputs": [],
   "source": [
    "train, test, sample = load_data()\n",
    "train = train.sample(frac = 1).reset_index(drop = True).drop('index', axis = 1)\n",
    "test = test.drop('index', axis = 1)\n",
    "display(train.head())"
   ]
  },
  {
   "cell_type": "markdown",
   "metadata": {},
   "source": [
    "# 2. Clean Data"
   ]
  },
  {
   "cell_type": "code",
   "execution_count": null,
   "metadata": {},
   "outputs": [],
   "source": [
    "# Translate Chinese -> Korean\n",
    "def replace_all(text, dic):\n",
    "    for i, j in dic.items():\n",
    "        text = text.replace(i, j+' ')\n",
    "    return text\n",
    "\n",
    "d = { \"中\": \"중국\", \"美\": \"미국\",\"北\":\"북한\",'日':\"일본\",'英':'영국','行':'행','靑':'청와대','朴':'박','銀':'은행','與':'여당',\n",
    "    '文':'문','野':'야당','獨':'독일','伊':'이탈리아','韓':'한국','佛':'프랑스','前':'전','檢':'검찰','軍':'군','安':'안철수','南':'남한',\n",
    "    '亞':'아시아','展':'전시회','重':'차','株':'주식','詩':'시'}\n",
    "\n",
    "train['title'] = train['title'].apply(lambda x : replace_all(x, d))\n",
    "test['title']  = test['title'].apply(lambda x : replace_all(x, d))"
   ]
  },
  {
   "cell_type": "markdown",
   "metadata": {},
   "source": [
    "# 3. Make Vocab"
   ]
  },
  {
   "cell_type": "code",
   "execution_count": null,
   "metadata": {},
   "outputs": [],
   "source": [
    "with open('./train_text.txt', 'w', encoding = 'utf-8') as f: \n",
    "    for row in train.iterrows() : \n",
    "        f.write(row[1]['title']+'\\n')\n",
    "f.close()\n",
    "\n",
    "vocab_size = 15000\n",
    "tokenizer = ByteLevelBPETokenizer()\n",
    "tokenizer.train('./train_text.txt',vocab_size = vocab_size, min_frequency=2)\n",
    "train_tokens = []\n",
    "test_tokens = []\n",
    "for title in train['title'] : \n",
    "    train_tokens.append(tokenizer.encode(title).ids)\n",
    "for title in test['title'] : \n",
    "    test_tokens.append(tokenizer.encode(title).ids)"
   ]
  },
  {
   "cell_type": "code",
   "execution_count": null,
   "metadata": {},
   "outputs": [],
   "source": [
    "train_onehot = np.zeros(shape = (len(train_tokens), vocab_size))\n",
    "test_onehot = np.zeros(shape = (len(test_tokens), vocab_size))"
   ]
  },
  {
   "cell_type": "code",
   "execution_count": null,
   "metadata": {},
   "outputs": [],
   "source": [
    "for idx, token_nums in zip(np.arange(len(train_tokens)), train_tokens) : \n",
    "    for token_num in token_nums : \n",
    "        train_onehot[idx, token_num] = 1\n",
    "for idx, token_nums in zip(np.arange(len(test_tokens)), test_tokens) : \n",
    "    for token_num in token_nums : \n",
    "        test_onehot[idx, token_num] = 1"
   ]
  },
  {
   "cell_type": "markdown",
   "metadata": {},
   "source": [
    "# 5.Modeling"
   ]
  },
  {
   "cell_type": "code",
   "execution_count": null,
   "metadata": {},
   "outputs": [],
   "source": [
    "def fc(x, unit, dr) : \n",
    "    x = Dense(unit)(x)\n",
    "    x = BatchNormalization()(x)\n",
    "    x = ReLU()(x)\n",
    "    x = Dropout(dr)(x)\n",
    "    return x\n",
    "\n",
    "def recall(y_target, y_pred):\n",
    "    # clip(t, clip_value_min, clip_value_max) : clip_value_min~clip_value_max 이외 가장자리를 깎아 낸다\n",
    "    # round : 반올림한다\n",
    "    y_target_yn = K.round(K.clip(y_target, 0, 1)) # 실제값을 0(Negative) 또는 1(Positive)로 설정한다\n",
    "    y_pred_yn = K.round(K.clip(y_pred, 0, 1)) # 예측값을 0(Negative) 또는 1(Positive)로 설정한다\n",
    "\n",
    "    # True Positive는 실제 값과 예측 값이 모두 1(Positive)인 경우이다\n",
    "    count_true_positive = K.sum(y_target_yn * y_pred_yn) \n",
    "\n",
    "    # (True Positive + False Negative) = 실제 값이 1(Positive) 전체\n",
    "    count_true_positive_false_negative = K.sum(y_target_yn)\n",
    "\n",
    "    # Recall =  (True Positive) / (True Positive + False Negative)\n",
    "    # K.epsilon()는 'divide by zero error' 예방차원에서 작은 수를 더한다\n",
    "    recall = count_true_positive / (count_true_positive_false_negative + K.epsilon())\n",
    "\n",
    "    # return a single tensor value\n",
    "    return recall\n",
    "\n",
    "def f1score(y_target, y_pred):\n",
    "    _recall = recall(y_target, y_pred)\n",
    "    _precision = precision(y_target, y_pred)\n",
    "    _f1score = ( 2 * _recall * _precision) / (_recall + _precision+ K.epsilon())\n",
    "    \n",
    "    return _f1score"
   ]
  },
  {
   "cell_type": "code",
   "execution_count": null,
   "metadata": {},
   "outputs": [],
   "source": [
    "def create_model() : \n",
    "    inp = Input(shape = (vocab_size,))\n",
    "    fc_layer = fc(inp, 2048, 0.2)\n",
    "    fc_layer = fc(fc_layer, 512, 0.2)\n",
    "    fc_layer = fc(fc_layer, 128, 0.2)\n",
    "    fc_layer = fc(fc_layer, 32, 0.2)\n",
    "    fc_layer = fc(fc_layer, 8, 0.2)\n",
    "    out = Softmax()(BatchNormalization()(Dense(7)(fc_layer)))\n",
    "    model = Model(inp, out)\n",
    "    model.compile(optimizer = tf.keras.optimizers.Adam(0.1), \n",
    "                loss = tf.keras.losses.CategoricalCrossentropy(), metrics = ['accuracy'])\n",
    "    return model"
   ]
  },
  {
   "cell_type": "code",
   "execution_count": null,
   "metadata": {},
   "outputs": [],
   "source": [
    "y_train = tf.keras.utils.to_categorical(train['topic_idx'])\n",
    "reduce_lr = ReduceLROnPlateau(monitor='val_loss', factor=0.1, patience=20,verbose = 0, min_delta=0.000001)\n",
    "early = EarlyStopping(monitor = 'val_loss', patience = 50, verbose = 0)\n",
    "mck = ModelCheckpoint(filepath='model.h5',  monitor='val_loss', save_best_only=True, verbose = 0, model = 'min')\n",
    "callbacks = [reduce_lr, early, mck]\n",
    "\n",
    "preds =[]\n",
    "skf = StratifiedKFold(n_splits = 5, shuffle = True, random_state = 20211209)\n",
    "for train_idx, valid_idx in skf.split(train.index, train['topic_idx']) : \n",
    "    if \"model.h5\" in os.listdir() : \n",
    "        os.remove(\"model.h5\")\n",
    "    model = create_model()\n",
    "    X_tr = train_onehot[train_idx]\n",
    "    X_val = train_onehot[valid_idx]\n",
    "\n",
    "    y_tr = y_train[train_idx]\n",
    "    y_val = y_train[valid_idx]\n",
    "\n",
    "    history = model.fit(X_tr, y_tr,\n",
    "              batch_size = 12200,\n",
    "              epochs = 30000,\n",
    "              validation_data = (X_val, y_val),\n",
    "              callbacks = callbacks,\n",
    "              verbose = 0)\n",
    "    print(max(history.history['val_accuracy']))\n",
    "    print('')\n",
    "    model.load_weights('model.h5')\n",
    "\n",
    "    pred = model.predict(test_onehot)\n",
    "    preds.append(pred)"
   ]
  },
  {
   "cell_type": "markdown",
   "metadata": {},
   "source": [
    "# 6. Submit"
   ]
  },
  {
   "cell_type": "code",
   "execution_count": null,
   "metadata": {},
   "outputs": [],
   "source": [
    "save_path = 'MLP-Tensorflow.csv'\n",
    "pred = np.mean(preds, axis = 0)\n",
    "final_pred = np.argmax(pred, axis = 1)\n",
    "sample['topic_idx'] = final_pred\n",
    "sample.to_csv(save_path, index=False)"
   ]
  },
  {
   "cell_type": "code",
   "execution_count": null,
   "metadata": {},
   "outputs": [],
   "source": [
    "token = get_token()\n",
    "result = dacon_submit_api.post_submission_file(\n",
    "                                                save_path, \n",
    "                                                token, \n",
    "                                                235747, \n",
    "                                                'Jay Hong', \n",
    "                                                'MLP-tensorflow')"
   ]
  }
 ],
 "metadata": {
  "interpreter": {
   "hash": "b3ba2566441a7c06988d0923437866b63cedc61552a5af99d1f4fb67d367b25f"
  },
  "kernelspec": {
   "display_name": "Python 3.8.8 64-bit ('base': conda)",
   "language": "python",
   "name": "python3"
  },
  "language_info": {
   "codemirror_mode": {
    "name": "ipython",
    "version": 3
   },
   "file_extension": ".py",
   "mimetype": "text/x-python",
   "name": "python",
   "nbconvert_exporter": "python",
   "pygments_lexer": "ipython3",
   "version": "3.8.8"
  },
  "orig_nbformat": 4
 },
 "nbformat": 4,
 "nbformat_minor": 2
}
