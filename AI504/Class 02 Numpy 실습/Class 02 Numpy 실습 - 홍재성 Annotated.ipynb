{
 "cells": [
  {
   "cell_type": "code",
   "execution_count": 97,
   "metadata": {},
   "outputs": [],
   "source": [
    "import numpy as np"
   ]
  },
  {
   "cell_type": "code",
   "execution_count": 98,
   "metadata": {},
   "outputs": [],
   "source": [
    "def print_obj(obj, name):\n",
    "    print(\"%s:\\n%s\\n\" % (name, obj))\n",
    "    \n",
    "def check_each(a, b):\n",
    "    return (a == b).astype('bool')\n",
    "\n",
    "def check_mean(a, b):\n",
    "    return np.mean(a == b).astype('bool')"
   ]
  },
  {
   "cell_type": "markdown",
   "metadata": {},
   "source": [
    "### Scalars, Vectors, Matrices"
   ]
  },
  {
   "cell_type": "code",
   "execution_count": 99,
   "metadata": {},
   "outputs": [],
   "source": [
    "a = np.array(1.)\n",
    "b = np.array([1., 2., 3.])\n",
    "c = np.array([[1., 2., 3.], [4., 5., 6.]])"
   ]
  },
  {
   "cell_type": "code",
   "execution_count": 100,
   "metadata": {},
   "outputs": [
    {
     "name": "stdout",
     "output_type": "stream",
     "text": [
      "a:\n",
      "1.0\n",
      "\n",
      "b:\n",
      "[1. 2. 3.]\n",
      "\n",
      "c:\n",
      "[[1. 2. 3.]\n",
      " [4. 5. 6.]]\n",
      "\n"
     ]
    }
   ],
   "source": [
    "print_obj(a, \"a\")\n",
    "print_obj(b, \"b\")\n",
    "print_obj(c, \"c\")"
   ]
  },
  {
   "cell_type": "code",
   "execution_count": 101,
   "metadata": {},
   "outputs": [
    {
     "name": "stdout",
     "output_type": "stream",
     "text": [
      "a.ndim:\n",
      "0\n",
      "\n",
      "b.ndim:\n",
      "1\n",
      "\n",
      "c.ndim:\n",
      "2\n",
      "\n"
     ]
    }
   ],
   "source": [
    "print_obj(a.ndim, \"a.ndim\")\n",
    "print_obj(b.ndim, \"b.ndim\")\n",
    "print_obj(c.ndim, \"c.ndim\")"
   ]
  },
  {
   "cell_type": "code",
   "execution_count": 102,
   "metadata": {},
   "outputs": [
    {
     "name": "stdout",
     "output_type": "stream",
     "text": [
      "a.shape:\n",
      "()\n",
      "\n",
      "b.shape:\n",
      "(3,)\n",
      "\n",
      "c.shape:\n",
      "(2, 3)\n",
      "\n",
      "c.shape[0]:\n",
      "2\n",
      "\n"
     ]
    }
   ],
   "source": [
    "print_obj(a.shape, \"a.shape\")\n",
    "print_obj(b.shape, \"b.shape\")\n",
    "print_obj(c.shape, \"c.shape\")\n",
    "print_obj(c.shape[0], \"c.shape[0]\")"
   ]
  },
  {
   "cell_type": "markdown",
   "metadata": {},
   "source": [
    "### Tensors (N-dimensional array)"
   ]
  },
  {
   "cell_type": "code",
   "execution_count": 103,
   "metadata": {},
   "outputs": [],
   "source": [
    "d = np.array([[[1., 2., 3.], [4., 5., 6.]], [[7., 8., 9.], [10., 11., 12.]]])\n",
    "e = np.array([[[[1., 2., 3.], [1., 2., 3.]], [[4., 5., 6.], [4., 5., 6.]]],\n",
    "              [[[7., 8., 9.], [7., 8., 9.]], [[10., 11., 12.], [10., 11., 12.]]]])"
   ]
  },
  {
   "cell_type": "code",
   "execution_count": 104,
   "metadata": {},
   "outputs": [
    {
     "name": "stdout",
     "output_type": "stream",
     "text": [
      "d:\n",
      "[[[ 1.  2.  3.]\n",
      "  [ 4.  5.  6.]]\n",
      "\n",
      " [[ 7.  8.  9.]\n",
      "  [10. 11. 12.]]]\n",
      "\n",
      "d.ndim:\n",
      "3\n",
      "\n",
      "d.shape:\n",
      "(2, 2, 3)\n",
      "\n",
      "e:\n",
      "[[[[ 1.  2.  3.]\n",
      "   [ 1.  2.  3.]]\n",
      "\n",
      "  [[ 4.  5.  6.]\n",
      "   [ 4.  5.  6.]]]\n",
      "\n",
      "\n",
      " [[[ 7.  8.  9.]\n",
      "   [ 7.  8.  9.]]\n",
      "\n",
      "  [[10. 11. 12.]\n",
      "   [10. 11. 12.]]]]\n",
      "\n",
      "e.ndim:\n",
      "4\n",
      "\n",
      "e.shape:\n",
      "(2, 2, 2, 3)\n",
      "\n"
     ]
    }
   ],
   "source": [
    "print_obj(d, \"d\")\n",
    "print_obj(d.ndim, \"d.ndim\")\n",
    "print_obj(d.shape, \"d.shape\")\n",
    "\n",
    "print_obj(e, \"e\")\n",
    "print_obj(e.ndim, \"e.ndim\")\n",
    "print_obj(e.shape, \"e.shape\")"
   ]
  },
  {
   "cell_type": "code",
   "execution_count": 105,
   "metadata": {},
   "outputs": [],
   "source": [
    "# Quiz: What is the shape of [[[1], [2], [3]], [[4], [5], [6]]]?"
   ]
  },
  {
   "cell_type": "code",
   "execution_count": 106,
   "metadata": {},
   "outputs": [
    {
     "name": "stdout",
     "output_type": "stream",
     "text": [
      "quiz_1.shape:\n",
      "(2, 3, 1)\n",
      "\n"
     ]
    }
   ],
   "source": [
    "quiz_1 = np.array([[[1], [2], [3]], [[4], [5], [6]]])\n",
    "print_obj(quiz_1.shape, \"quiz_1.shape\")\n"
   ]
  },
  {
   "cell_type": "markdown",
   "metadata": {},
   "source": [
    "### Defining Numpy arrays"
   ]
  },
  {
   "cell_type": "code",
   "execution_count": 107,
   "metadata": {},
   "outputs": [
    {
     "data": {
      "text/plain": [
       "array([1., 1., 1., 1., 1., 1., 1., 1., 1., 1.])"
      ]
     },
     "execution_count": 107,
     "metadata": {},
     "output_type": "execute_result"
    }
   ],
   "source": [
    "a = np.ones(10)\n",
    "a"
   ]
  },
  {
   "cell_type": "code",
   "execution_count": 108,
   "metadata": {},
   "outputs": [
    {
     "data": {
      "text/plain": [
       "array([[0., 0., 0., 0., 0.],\n",
       "       [0., 0., 0., 0., 0.]])"
      ]
     },
     "execution_count": 108,
     "metadata": {},
     "output_type": "execute_result"
    }
   ],
   "source": [
    "a = np.zeros((2, 5))\n",
    "a"
   ]
  },
  {
   "cell_type": "code",
   "execution_count": 109,
   "metadata": {},
   "outputs": [
    {
     "data": {
      "text/plain": [
       "array([[5, 5, 5, 5, 5],\n",
       "       [5, 5, 5, 5, 5]])"
      ]
     },
     "execution_count": 109,
     "metadata": {},
     "output_type": "execute_result"
    }
   ],
   "source": [
    "a = np.full((2,5), 5)\n",
    "a"
   ]
  },
  {
   "cell_type": "code",
   "execution_count": 110,
   "metadata": {},
   "outputs": [
    {
     "data": {
      "text/plain": [
       "array([[[0.74410195, 0.55157866, 0.56581924, 0.15243156],\n",
       "        [0.93396884, 0.23747154, 0.64313307, 0.05204211],\n",
       "        [0.4830563 , 0.62114024, 0.27454182, 0.84994203]],\n",
       "\n",
       "       [[0.89896397, 0.40217992, 0.0114301 , 0.67101332],\n",
       "        [0.99903806, 0.31527028, 0.20602702, 0.36051625],\n",
       "        [0.08339943, 0.33660199, 0.72080468, 0.30614318]]])"
      ]
     },
     "execution_count": 110,
     "metadata": {},
     "output_type": "execute_result"
    }
   ],
   "source": [
    "a = np.random.random((2, 3, 4)) # 0부터 1사이에서 안의 shape 만큼의 random 값을 반환\n",
    "a"
   ]
  },
  {
   "cell_type": "code",
   "execution_count": 111,
   "metadata": {},
   "outputs": [
    {
     "data": {
      "text/plain": [
       "array([0, 1, 2, 3, 4, 5, 6, 7, 8, 9])"
      ]
     },
     "execution_count": 111,
     "metadata": {},
     "output_type": "execute_result"
    }
   ],
   "source": [
    "a = np.arange(10) # Integer Tensors\n",
    "a"
   ]
  },
  {
   "cell_type": "code",
   "execution_count": 112,
   "metadata": {},
   "outputs": [
    {
     "data": {
      "text/plain": [
       "array([0., 1., 2., 3., 4., 5., 6., 7., 8., 9.])"
      ]
     },
     "execution_count": 112,
     "metadata": {},
     "output_type": "execute_result"
    }
   ],
   "source": [
    "a = np.arange(10).astype(float) # Type Change\n",
    "a"
   ]
  },
  {
   "cell_type": "code",
   "execution_count": 113,
   "metadata": {},
   "outputs": [
    {
     "data": {
      "text/plain": [
       "array([[0, 1],\n",
       "       [2, 3],\n",
       "       [4, 5],\n",
       "       [6, 7],\n",
       "       [8, 9]])"
      ]
     },
     "execution_count": 113,
     "metadata": {},
     "output_type": "execute_result"
    }
   ],
   "source": [
    "a = np.arange(10).reshape((5,2)) # Change Dimmension\n",
    "a"
   ]
  },
  {
   "cell_type": "code",
   "execution_count": 114,
   "metadata": {},
   "outputs": [
    {
     "name": "stdout",
     "output_type": "stream",
     "text": [
      "quiz_2:\n",
      "[[[ 0.  1.]\n",
      "  [ 2.  3.]\n",
      "  [ 4.  5.]]\n",
      "\n",
      " [[ 6.  7.]\n",
      "  [ 8.  9.]\n",
      "  [10. 11.]]\n",
      "\n",
      " [[12. 13.]\n",
      "  [14. 15.]\n",
      "  [16. 17.]]\n",
      "\n",
      " [[18. 19.]\n",
      "  [20. 21.]\n",
      "  [22. 23.]]]\n",
      "\n",
      "quiz_2.shape:\n",
      "(4, 3, 2)\n",
      "\n"
     ]
    }
   ],
   "source": [
    "# Quiz: Create a 4-by-3-by-2 tensor filled with 0.0 to 23.0\n",
    "\n",
    "quiz_2 = np.arange(0,24).astype('float')\n",
    "quiz_2 = quiz_2.reshape((4,3,2))\n",
    "print_obj(quiz_2, \"quiz_2\")\n",
    "print_obj(quiz_2.shape, \"quiz_2.shape\")"
   ]
  },
  {
   "cell_type": "markdown",
   "metadata": {},
   "source": [
    "### Indexing & Slicing"
   ]
  },
  {
   "cell_type": "code",
   "execution_count": 115,
   "metadata": {},
   "outputs": [
    {
     "name": "stdout",
     "output_type": "stream",
     "text": [
      "a:\n",
      "[0 1 2 3 4 5 6 7 8 9]\n",
      "\n",
      "a[0]:\n",
      "0\n",
      "\n",
      "a[1]:\n",
      "1\n",
      "\n",
      "a[-1]:\n",
      "9\n",
      "\n",
      "a[-3]:\n",
      "7\n",
      "\n",
      "a[0:10]:\n",
      "[0 1 2 3 4 5 6 7 8 9]\n",
      "\n",
      "a[0:]:\n",
      "[0 1 2 3 4 5 6 7 8 9]\n",
      "\n",
      "a[:10]:\n",
      "[0 1 2 3 4 5 6 7 8 9]\n",
      "\n",
      "a[:]:\n",
      "[0 1 2 3 4 5 6 7 8 9]\n",
      "\n",
      "a[7:]:\n",
      "[7 8 9]\n",
      "\n",
      "a[:5]:\n",
      "[0 1 2 3 4]\n",
      "\n",
      "a[2:5]:\n",
      "[2 3 4]\n",
      "\n",
      "a[0:10:2]:\n",
      "[0 2 4 6 8]\n",
      "\n",
      "a[0:10:3]:\n",
      "[0 3 6 9]\n",
      "\n",
      "a[2:6:3]:\n",
      "[2 5]\n",
      "\n",
      "a[::-1]:\n",
      "[9 8 7 6 5 4 3 2 1 0]\n",
      "\n",
      "a[8:5:-1]:\n",
      "[8 7 6]\n",
      "\n",
      "a[8:5]:\n",
      "[]\n",
      "\n"
     ]
    }
   ],
   "source": [
    "# Indexing and slicing a vector\n",
    "a = np.arange(10)\n",
    "print_obj(a, \"a\")\n",
    "\n",
    "print_obj(a[0], \"a[0]\")\n",
    "print_obj(a[1], \"a[1]\")\n",
    "print_obj(a[-1], \"a[-1]\")\n",
    "print_obj(a[-3], \"a[-3]\")\n",
    "\n",
    "print_obj(a[0:10], \"a[0:10]\")\n",
    "print_obj(a[0:], \"a[0:]\")\n",
    "print_obj(a[:10], \"a[:10]\")\n",
    "print_obj(a[:], \"a[:]\")\n",
    "\n",
    "print_obj(a[7:], \"a[7:]\")\n",
    "print_obj(a[:5], \"a[:5]\")\n",
    "print_obj(a[2:5], \"a[2:5]\")\n",
    "\n",
    "# Quiz: What is a[-4:]?\n",
    "## Answer : [6,7,8,9]\n",
    "# Quiz: What is a[:-8]?\n",
    "## ANswer : [0,1]\n",
    "\n",
    "print_obj(a[0:10:2], \"a[0:10:2]\")\n",
    "print_obj(a[0:10:3], \"a[0:10:3]\")\n",
    "print_obj(a[2:6:3], \"a[2:6:3]\")\n",
    "\n",
    "print_obj(a[::-1], \"a[::-1]\")\n",
    "print_obj(a[8:5:-1], \"a[8:5:-1]\")\n",
    "print_obj(a[8:5], \"a[8:5]\")\n",
    "\n",
    "# Quiz: Create [9, 6, 3] using a.\n",
    "## Answer : a[:0:-3]"
   ]
  },
  {
   "cell_type": "code",
   "execution_count": 116,
   "metadata": {},
   "outputs": [
    {
     "name": "stdout",
     "output_type": "stream",
     "text": [
      "a:\n",
      "[[0 1 2]\n",
      " [3 4 5]\n",
      " [6 7 8]]\n",
      "\n",
      "a[0][0]:\n",
      "0\n",
      "\n",
      "a[0,0]:\n",
      "0\n",
      "\n",
      "a[1,1]:\n",
      "4\n",
      "\n"
     ]
    }
   ],
   "source": [
    "# Indexing a matrix\n",
    "a = np.arange(9).reshape((3,3))\n",
    "print_obj(a, \"a\")\n",
    "print_obj(a[0][0], \"a[0][0]\")\n",
    "print_obj(a[0,0], \"a[0,0]\")\n",
    "print_obj(a[1,1], \"a[1,1]\")\n",
    "\n",
    "# Quiz: How to access the last row?\n",
    "## Answer : a[-1]\n",
    "\n",
    "# Quiz: How to access the second column?\n",
    "## Answer : a[:,1]\n",
    "\n",
    "# Quiz: How to create [8, 5] using a?\n",
    "## Answer : a[2:0:-1,-1]"
   ]
  },
  {
   "cell_type": "code",
   "execution_count": 117,
   "metadata": {},
   "outputs": [
    {
     "name": "stdout",
     "output_type": "stream",
     "text": [
      "a:\n",
      "[[[ 0  1]\n",
      "  [ 2  3]\n",
      "  [ 4  5]]\n",
      "\n",
      " [[ 6  7]\n",
      "  [ 8  9]\n",
      "  [10 11]]\n",
      "\n",
      " [[12 13]\n",
      "  [14 15]\n",
      "  [16 17]]\n",
      "\n",
      " [[18 19]\n",
      "  [20 21]\n",
      "  [22 23]]]\n",
      "\n",
      "a[2, 1, 0]:\n",
      "14\n",
      "\n"
     ]
    }
   ],
   "source": [
    "# Indexing and slicing a 3D tensor\n",
    "a = np.arange(4*3*2).reshape((4, 3, 2))\n",
    "print_obj(a, \"a\")\n",
    "print_obj(a[2, 1, 0], \"a[2, 1, 0]\")\n",
    "\n",
    "# Quiz: What would be a[0]?\n",
    "## Answer : [[0 1][2 3][4 5]]\n",
    "\n",
    "# Quiz: What would be a[0, 1]?\n",
    "## Answer : [[2 3]]\n",
    "\n",
    "# Quiz: Create [[0, 2, 4], [6, 8, 10]] from a\n",
    "## Answer : a[:2,:,0] / [2 Dimension, All rows, first Column]"
   ]
  },
  {
   "cell_type": "code",
   "execution_count": 118,
   "metadata": {},
   "outputs": [
    {
     "name": "stdout",
     "output_type": "stream",
     "text": [
      "a:\n",
      "[[0 1]\n",
      " [2 3]\n",
      " [4 5]]\n",
      "\n",
      "idx:\n",
      "[[ True False]\n",
      " [ True False]\n",
      " [ True False]]\n",
      "\n",
      "quiz_answer:\n",
      "[3 4 5]\n",
      "\n"
     ]
    }
   ],
   "source": [
    "# Conditional indexing\n",
    "a = np.arange(3*2).reshape((3,2))\n",
    "print_obj(a, \"a\")\n",
    "\n",
    "idx = a % 2 == 0\n",
    "print_obj(idx, \"idx\")\n",
    "\n",
    "# Quiz: How would you create [3, 4, 5] using a?\n",
    "idx2 = a > 2\n",
    "print_obj(a[idx2], \"quiz_answer\")"
   ]
  },
  {
   "cell_type": "code",
   "execution_count": 119,
   "metadata": {},
   "outputs": [
    {
     "name": "stdout",
     "output_type": "stream",
     "text": [
      "a[idx]:\n",
      "[0 2 3]\n",
      "\n"
     ]
    }
   ],
   "source": [
    "# Taking specific elements from a vector\n",
    "a = np.arange(10)\n",
    "idx = [0, 2, 3]\n",
    "print_obj(a[idx], \"a[idx]\")"
   ]
  },
  {
   "cell_type": "code",
   "execution_count": 120,
   "metadata": {},
   "outputs": [
    {
     "data": {
      "text/plain": [
       "array([0, 0, 1, 5])"
      ]
     },
     "execution_count": 120,
     "metadata": {},
     "output_type": "execute_result"
    }
   ],
   "source": [
    "a[((0,0,1,5),)]"
   ]
  },
  {
   "cell_type": "code",
   "execution_count": 121,
   "metadata": {},
   "outputs": [
    {
     "name": "stdout",
     "output_type": "stream",
     "text": [
      "a:\n",
      "[[ 0  1  2  3]\n",
      " [ 4  5  6  7]\n",
      " [ 8  9 10 11]\n",
      " [12 13 14 15]\n",
      " [16 17 18 19]\n",
      " [20 21 22 23]]\n",
      "\n",
      "tuple indexing:\n",
      "[ 1  2  4 23]\n",
      "\n",
      "ndarray indexing:\n",
      "[[[ 0  1  2  3]\n",
      "  [ 0  1  2  3]\n",
      "  [ 4  5  6  7]\n",
      "  [20 21 22 23]]\n",
      "\n",
      " [[ 4  5  6  7]\n",
      "  [ 8  9 10 11]\n",
      "  [ 0  1  2  3]\n",
      "  [12 13 14 15]]]\n",
      "\n"
     ]
    }
   ],
   "source": [
    "# Taking specific elements from a tensor\n",
    "a = np.arange(24).reshape((6,4))\n",
    "print_obj(a, \"a\")\n",
    "\n",
    "# print_obj(a[:,[0, 2, 3]], \"a[idx]\")\n",
    "# print_obj(a[[0, 2, 3], :], \"a[idx]\")\n",
    "idx = ((0,0,1,5),(1,2,0,3)) # 0번 행, 0번행, 1번행, 5번행을 가져온 후에, 1번,2,0번,3번 indexing\n",
    "print_obj(a[idx], \"tuple indexing\")\n",
    "idx = np.array([[0,0,1,5],[1,2,0,3]]) # 차원 단위로 indexing\n",
    "print_obj(a[idx], \"ndarray indexing\")"
   ]
  },
  {
   "cell_type": "markdown",
   "metadata": {},
   "source": [
    "### Math Operations"
   ]
  },
  {
   "cell_type": "code",
   "execution_count": 122,
   "metadata": {},
   "outputs": [
    {
     "name": "stdout",
     "output_type": "stream",
     "text": [
      "a:\n",
      "[[0 1]\n",
      " [2 3]\n",
      " [4 5]]\n",
      "\n",
      "b:\n",
      "[[1. 1.]\n",
      " [1. 1.]\n",
      " [1. 1.]]\n",
      "\n",
      "a+b:\n",
      "[[1. 2.]\n",
      " [3. 4.]\n",
      " [5. 6.]]\n",
      "\n",
      "a-b:\n",
      "[[-1.  0.]\n",
      " [ 1.  2.]\n",
      " [ 3.  4.]]\n",
      "\n",
      "a*b:\n",
      "[[0. 1.]\n",
      " [2. 3.]\n",
      " [4. 5.]]\n",
      "\n",
      "a/b:\n",
      "[[0. 1.]\n",
      " [2. 3.]\n",
      " [4. 5.]]\n",
      "\n"
     ]
    }
   ],
   "source": [
    "# Basic operations with same shape\n",
    "a = np.arange(6).reshape((3, 2))\n",
    "b = np.ones((3, 2))\n",
    "print_obj(a, \"a\")\n",
    "print_obj(b, \"b\")\n",
    "\n",
    "# +, -, *, /\n",
    "print_obj(a+b, \"a+b\")\n",
    "print_obj(a-b, \"a-b\")\n",
    "print_obj(a*b, \"a*b\")\n",
    "print_obj(a/b, \"a/b\")"
   ]
  },
  {
   "cell_type": "code",
   "execution_count": 123,
   "metadata": {},
   "outputs": [
    {
     "name": "stdout",
     "output_type": "stream",
     "text": [
      "a:\n",
      "[[0 1]\n",
      " [2 3]\n",
      " [4 5]]\n",
      "\n",
      "a.sum():\n",
      "15\n",
      "\n",
      "a.sum(axis=0):\n",
      "[6 9]\n",
      "\n",
      "a.sum(axis=1):\n",
      "[1 5 9]\n",
      "\n",
      "a.mean():\n",
      "2.5\n",
      "\n",
      "a.max():\n",
      "5\n",
      "\n",
      "a.min():\n",
      "0\n",
      "\n",
      "46.0\n"
     ]
    }
   ],
   "source": [
    "# Unary operations\n",
    "a = np.arange(6).reshape((3,2))\n",
    "print_obj(a, \"a\")\n",
    "\n",
    "print_obj(a.sum(), \"a.sum()\")\n",
    "print_obj(a.sum(axis=0), \"a.sum(axis=0)\") # row wise\n",
    "print_obj(a.sum(axis=1), \"a.sum(axis=1)\") # col wise = horizontal\n",
    "\n",
    "print_obj(a.mean(), \"a.mean()\")\n",
    "print_obj(a.max(), \"a.max()\")\n",
    "print_obj(a.min(), \"a.min()\")\n",
    "\n",
    "# Quiz: Given a = np.arange(24).reshape((2,3,4)), what is the mean of the sum w.r.t(with respect) to the last dimension?\n",
    "## Answer : \n",
    "print(np.arange(24).reshape((2,3,4)).sum(axis = -1).mean())"
   ]
  },
  {
   "cell_type": "code",
   "execution_count": 124,
   "metadata": {},
   "outputs": [
    {
     "name": "stdout",
     "output_type": "stream",
     "text": [
      "a:\n",
      "[0. 1. 2.]\n",
      "\n",
      "b:\n",
      "[1. 1. 1.]\n",
      "\n",
      "a dot b:\n",
      "3.0\n",
      "\n"
     ]
    }
   ],
   "source": [
    "# Vector dot product\n",
    "a = np.arange(3).astype('float')\n",
    "b = np.ones(3)\n",
    "print_obj(a, \"a\")\n",
    "print_obj(b, \"b\")\n",
    "\n",
    "print_obj(np.dot(a, b), \"a dot b\")"
   ]
  },
  {
   "cell_type": "code",
   "execution_count": 125,
   "metadata": {},
   "outputs": [
    {
     "name": "stdout",
     "output_type": "stream",
     "text": [
      "a:\n",
      "[[0 1]\n",
      " [2 3]\n",
      " [4 5]]\n",
      "\n",
      "b:\n",
      "[[1. 1. 1.]\n",
      " [1. 1. 1.]]\n",
      "\n",
      "a dot b:\n",
      "[[1. 1. 1.]\n",
      " [5. 5. 5.]\n",
      " [9. 9. 9.]]\n",
      "\n",
      "a @ b:\n",
      "[[1. 1. 1.]\n",
      " [5. 5. 5.]\n",
      " [9. 9. 9.]]\n",
      "\n"
     ]
    }
   ],
   "source": [
    "# Matrix dot product, matrix multiplication\n",
    "a = np.arange(6).reshape((3, 2)) # (3*2) @ (2 *3) -> (3*3)\n",
    "b = np.ones((2, 3))\n",
    "print_obj(a, \"a\")\n",
    "print_obj(b, \"b\")\n",
    "\n",
    "print_obj(np.dot(a,b), \"a dot b\")\n",
    "print_obj(a@b, \"a @ b\")"
   ]
  },
  {
   "cell_type": "code",
   "execution_count": 126,
   "metadata": {},
   "outputs": [
    {
     "name": "stdout",
     "output_type": "stream",
     "text": [
      "a:\n",
      "[[[ 0  1]\n",
      "  [ 2  3]\n",
      "  [ 4  5]]\n",
      "\n",
      " [[ 6  7]\n",
      "  [ 8  9]\n",
      "  [10 11]]\n",
      "\n",
      " [[12 13]\n",
      "  [14 15]\n",
      "  [16 17]]\n",
      "\n",
      " [[18 19]\n",
      "  [20 21]\n",
      "  [22 23]]]\n",
      "\n",
      "b:\n",
      "[[[1. 1. 1.]\n",
      "  [1. 1. 1.]]\n",
      "\n",
      " [[1. 1. 1.]\n",
      "  [1. 1. 1.]]\n",
      "\n",
      " [[1. 1. 1.]\n",
      "  [1. 1. 1.]]\n",
      "\n",
      " [[1. 1. 1.]\n",
      "  [1. 1. 1.]]]\n",
      "\n",
      "a dot b:\n",
      "(4, 3, 4, 3)\n",
      "\n",
      "a @ b:\n",
      "(4, 3, 3)\n",
      "\n",
      "quiz (4, 3, 3)\n"
     ]
    }
   ],
   "source": [
    "# Tensor dot product, tensor multiplication\n",
    "a = np.arange(24).reshape((4, 3, 2))\n",
    "b = np.ones((4, 2, 3))\n",
    "print_obj(a, \"a\")\n",
    "print_obj(b, \"b\")\n",
    "\n",
    "print_obj(np.dot(a,b).shape, \"a dot b\")\n",
    "print_obj((a@b).shape, \"a @ b\")\n",
    "\n",
    "# 첫 Dim은 주로 Batch라서, 데이터라고 생각하고\n",
    "\n",
    "# np.dot(a,b) 마지막 2 차원이 연산 대상 차원으로 인식하고, 그 앞에 있는 차원은 건들지 않는다.\n",
    "# 따라서, (3*2)와 (2*3)의 결과를 각각 반환하기에\n",
    "# (4,3,4,3)을 반환한다 3*3 Matrix를 4 Batch에 대해서 2번\n",
    "# np.dot((2,4,3,2), (2,4,2,3)) => (2,4,3,2,4,3) 이 된다.\n",
    "\n",
    "# @ operation은 (3*2)와 (2*3)의 Dot Product를 반환함\n",
    "# 여기서는 Broadcast 연산이 실행된다.\n",
    "\n",
    "# 2차원까지는 동일한 값을 반환하지만, 그보다 고차원에서는 차이가 발생\n",
    "\n",
    "# Quiz: what would happen if a.shape==(4,3,2) and b.shape==(2,3)?\n",
    "print(\"quiz\", (np.zeros((4,3,2)) @ np.zeros((2,3))).shape)"
   ]
  },
  {
   "cell_type": "markdown",
   "metadata": {},
   "source": [
    "### Shape Manipulation"
   ]
  },
  {
   "cell_type": "code",
   "execution_count": 127,
   "metadata": {},
   "outputs": [
    {
     "name": "stdout",
     "output_type": "stream",
     "text": [
      "a:\n",
      "[[[ 0  1  2  3]\n",
      "  [ 4  5  6  7]\n",
      "  [ 8  9 10 11]]\n",
      "\n",
      " [[12 13 14 15]\n",
      "  [16 17 18 19]\n",
      "  [20 21 22 23]]]\n",
      "\n",
      "b:\n",
      "[[ 0  1  2  3]\n",
      " [ 4  5  6  7]\n",
      " [ 8  9 10 11]\n",
      " [12 13 14 15]\n",
      " [16 17 18 19]\n",
      " [20 21 22 23]]\n",
      "\n",
      "c:\n",
      "[[ 0  1  2  3]\n",
      " [ 4  5  6  7]\n",
      " [ 8  9 10 11]\n",
      " [12 13 14 15]\n",
      " [16 17 18 19]\n",
      " [20 21 22 23]]\n",
      "\n"
     ]
    }
   ],
   "source": [
    "# Reshapes\n",
    "a = np.arange(24).reshape((2, 3, 4))\n",
    "print_obj(a, \"a\")\n",
    "\n",
    "b = a.reshape((6, 4))\n",
    "print_obj(b, \"b\")\n",
    "\n",
    "c = a.reshape((6, -1)) # -1은 6으로만들고 남는 값으로 채움\n",
    "print_obj(c, \"c\")\n",
    "\n",
    "# Quiz: What would d=a.reshape((6, 4, -1)) look like? \n",
    "## Answer : (6,4,1) / 이미 6*4 == 2*3*4 이기에, 몫은 1임"
   ]
  },
  {
   "cell_type": "code",
   "execution_count": 128,
   "metadata": {},
   "outputs": [
    {
     "name": "stdout",
     "output_type": "stream",
     "text": [
      "a:\n",
      "[0 1 2]\n",
      "\n",
      "a[:, None]:\n",
      "[[0]\n",
      " [1]\n",
      " [2]]\n",
      "\n"
     ]
    }
   ],
   "source": [
    "# Adding an extra dimension\n",
    "a = np.arange(3)\n",
    "print_obj(a, \"a\")\n",
    "\n",
    "print_obj(a[:, None], \"a[:, None]\")\n",
    "\n",
    "# Quiz: How to make a = np.ones((3,4)) into shape (3, 1, 1, 4) using reshape and None?\n",
    "## Answer : a[:,None,None] / 마지막 차원을 입력하지 않으면, 남은 모든 값들을 해당 축에다가 놓겠다는 의미\n"
   ]
  },
  {
   "cell_type": "code",
   "execution_count": 129,
   "metadata": {},
   "outputs": [
    {
     "name": "stdout",
     "output_type": "stream",
     "text": [
      "a:\n",
      "[[1. 1.]\n",
      " [1. 1.]\n",
      " [1. 1.]]\n",
      "\n",
      "b:\n",
      "[[0. 0.]\n",
      " [0. 0.]\n",
      " [0. 0.]]\n",
      "\n",
      "a,b vstack:\n",
      "[[1. 1.]\n",
      " [1. 1.]\n",
      " [1. 1.]\n",
      " [0. 0.]\n",
      " [0. 0.]\n",
      " [0. 0.]]\n",
      "\n",
      "a,b hstack:\n",
      "[[1. 1. 0. 0.]\n",
      " [1. 1. 0. 0.]\n",
      " [1. 1. 0. 0.]]\n",
      "\n",
      "a,b,a hstack:\n",
      "[[1. 1. 0. 0. 1. 1.]\n",
      " [1. 1. 0. 0. 1. 1.]\n",
      " [1. 1. 0. 0. 1. 1.]]\n",
      "\n",
      "a,b concat axis=0:\n",
      "[[1. 1.]\n",
      " [1. 1.]\n",
      " [1. 1.]\n",
      " [0. 0.]\n",
      " [0. 0.]\n",
      " [0. 0.]]\n",
      "\n",
      "a,b concat axis=1:\n",
      "[[1. 1. 0. 0.]\n",
      " [1. 1. 0. 0.]\n",
      " [1. 1. 0. 0.]]\n",
      "\n"
     ]
    },
    {
     "data": {
      "text/plain": [
       "array([[[0., 0., 0., 0., 0.],\n",
       "        [0., 0., 0., 0., 0.],\n",
       "        [0., 0., 0., 0., 0.]],\n",
       "\n",
       "       [[0., 0., 0., 0., 0.],\n",
       "        [0., 0., 0., 0., 0.],\n",
       "        [0., 0., 0., 0., 0.]],\n",
       "\n",
       "       [[0., 0., 0., 0., 0.],\n",
       "        [0., 0., 0., 0., 0.],\n",
       "        [0., 0., 0., 0., 0.]],\n",
       "\n",
       "       [[0., 0., 0., 0., 0.],\n",
       "        [0., 0., 0., 0., 0.],\n",
       "        [0., 0., 0., 0., 0.]]])"
      ]
     },
     "execution_count": 129,
     "metadata": {},
     "output_type": "execute_result"
    }
   ],
   "source": [
    "# Stack, concatenation\n",
    "a = np.ones((3,2))\n",
    "b = np.zeros((3,2))\n",
    "print_obj(a, \"a\")\n",
    "print_obj(b, \"b\")\n",
    "\n",
    "print_obj(np.vstack([a, b]), \"a,b vstack\") # Vertical\n",
    "print_obj(np.hstack([a, b]), \"a,b hstack\") # Horizontal\n",
    "print_obj(np.hstack([a, b, a]), \"a,b,a hstack\") # \n",
    "\n",
    "print_obj(np.concatenate([a, b], axis=0), \"a,b concat axis=0\") # Generalization of vstack\n",
    "print_obj(np.concatenate([a, b], axis=1), \"a,b concat axis=1\") # Generalization of hstack\n",
    "\n",
    "# Quiz: Would concatenating two tensors whose shapes are (4, 3, 2) and (5, 4, 2) on axis=2 work?\n",
    "## Answer : # Nope  cause diff other dims / 기준이 되는 축은 달라도 되지만, 나머지 dim은 같아야 함\n",
    "\n",
    "a = np.zeros((4,3,2))\n",
    "b = np.zeros((4,3,3))\n",
    "np.concatenate([a,b],axis= 2) "
   ]
  },
  {
   "cell_type": "code",
   "execution_count": 130,
   "metadata": {},
   "outputs": [
    {
     "name": "stdout",
     "output_type": "stream",
     "text": [
      "a:\n",
      "[[0 1]\n",
      " [2 3]\n",
      " [4 5]]\n",
      "\n",
      "a.T:\n",
      "[[0 2 4]\n",
      " [1 3 5]]\n",
      "\n"
     ]
    }
   ],
   "source": [
    "# Matrix transpose : 행렬 연산을 하기 위해서는 차원을 맞춰줄 필요가 있음\n",
    "a = np.arange(6).reshape((3, 2))\n",
    "print_obj(a, \"a\")\n",
    "\n",
    "print_obj(a.T, \"a.T\")"
   ]
  },
  {
   "cell_type": "code",
   "execution_count": 131,
   "metadata": {},
   "outputs": [
    {
     "name": "stdout",
     "output_type": "stream",
     "text": [
      "a:\n",
      "[[[ 0  1]\n",
      "  [ 2  3]\n",
      "  [ 4  5]]\n",
      "\n",
      " [[ 6  7]\n",
      "  [ 8  9]\n",
      "  [10 11]]\n",
      "\n",
      " [[12 13]\n",
      "  [14 15]\n",
      "  [16 17]]\n",
      "\n",
      " [[18 19]\n",
      "  [20 21]\n",
      "  [22 23]]]\n",
      "\n",
      "Swap axis 1 and 2:\n",
      "[[[ 0  2  4]\n",
      "  [ 1  3  5]]\n",
      "\n",
      " [[ 6  8 10]\n",
      "  [ 7  9 11]]\n",
      "\n",
      " [[12 14 16]\n",
      "  [13 15 17]]\n",
      "\n",
      " [[18 20 22]\n",
      "  [19 21 23]]]\n",
      "\n",
      "b's shape:\n",
      "(4, 2, 3)\n",
      "\n",
      "Swap axis 0 and 1:\n",
      "[[[ 0  1]\n",
      "  [ 6  7]\n",
      "  [12 13]\n",
      "  [18 19]]\n",
      "\n",
      " [[ 2  3]\n",
      "  [ 8  9]\n",
      "  [14 15]\n",
      "  [20 21]]\n",
      "\n",
      " [[ 4  5]\n",
      "  [10 11]\n",
      "  [16 17]\n",
      "  [22 23]]]\n",
      "\n",
      "c's shape:\n",
      "(3, 4, 2)\n",
      "\n"
     ]
    }
   ],
   "source": [
    "# Tensor transpose\n",
    "a = np.arange(24).reshape((4, 3, 2))\n",
    "print_obj(a, \"a\")\n",
    "\n",
    "b = np.transpose(a, [0, 2, 1])\n",
    "print_obj(b, \"Swap axis 1 and 2\")\n",
    "print_obj(b.shape, \"b's shape\")\n",
    "\n",
    "c = np.transpose(a, [1, 0, 2])\n",
    "print_obj(c, \"Swap axis 0 and 1\")\n",
    "print_obj(c.shape, \"c's shape\")"
   ]
  },
  {
   "cell_type": "markdown",
   "metadata": {},
   "source": [
    "### Broadcasting"
   ]
  },
  {
   "cell_type": "code",
   "execution_count": 132,
   "metadata": {},
   "outputs": [
    {
     "name": "stdout",
     "output_type": "stream",
     "text": [
      "a:\n",
      "[0 1 2]\n",
      "\n",
      "a+b:\n",
      "[2. 3. 4.]\n",
      "\n",
      "a-b:\n",
      "[-2. -1.  0.]\n",
      "\n",
      "a*b:\n",
      "[0. 2. 4.]\n",
      "\n",
      "a/b:\n",
      "[0.  0.5 1. ]\n",
      "\n"
     ]
    }
   ],
   "source": [
    "# Vector and scalar\n",
    "a = np.arange(3)\n",
    "b = 2.\n",
    "print_obj(a, \"a\")\n",
    "\n",
    "print_obj(a+b, \"a+b\")\n",
    "print_obj(a-b, \"a-b\")\n",
    "print_obj(a*b, \"a*b\")\n",
    "print_obj(a/b, \"a/b\")"
   ]
  },
  {
   "cell_type": "code",
   "execution_count": 133,
   "metadata": {},
   "outputs": [
    {
     "name": "stdout",
     "output_type": "stream",
     "text": [
      "a:\n",
      "[[0 1]\n",
      " [2 3]\n",
      " [4 5]]\n",
      "\n",
      "b:\n",
      "[1 2]\n",
      "\n",
      "a+b:\n",
      "[[1 3]\n",
      " [3 5]\n",
      " [5 7]]\n",
      "\n"
     ]
    }
   ],
   "source": [
    "# Matrix and vector\n",
    "a = np.arange(6).reshape((3,2))\n",
    "b = np.arange(2).reshape(2) + 1\n",
    "print_obj(a, \"a\")\n",
    "print_obj(b, \"b\")\n",
    "\n",
    "print_obj(a+b, \"a+b\")\n",
    "\n",
    "# Quiz: What would happen if b were np.arange(2).reshape((2, 1))? How about np.arange(2).reshape((1, 2))?\n",
    "## ANswer : [[0 1] [2 3] [4 5]] => [[1 3] [3 5] [5 7]]"
   ]
  },
  {
   "cell_type": "code",
   "execution_count": 134,
   "metadata": {},
   "outputs": [
    {
     "name": "stdout",
     "output_type": "stream",
     "text": [
      "a:\n",
      "[[[ 0  1]\n",
      "  [ 2  3]\n",
      "  [ 4  5]]\n",
      "\n",
      " [[ 6  7]\n",
      "  [ 8  9]\n",
      "  [10 11]]]\n",
      "\n",
      "b:\n",
      "[[0 1]\n",
      " [2 3]\n",
      " [4 5]]\n",
      "\n",
      "a+b:\n",
      "[[[ 0  2]\n",
      "  [ 4  6]\n",
      "  [ 8 10]]\n",
      "\n",
      " [[ 6  8]\n",
      "  [10 12]\n",
      "  [14 16]]]\n",
      "\n"
     ]
    }
   ],
   "source": [
    "# Tensor and matrix\n",
    "a = np.arange(12).reshape((2,3,2))\n",
    "b = np.arange(6).reshape((3,2))\n",
    "print_obj(a, \"a\")\n",
    "print_obj(b, \"b\")\n",
    "\n",
    "print_obj(a+b, \"a+b\")\n",
    "\n",
    "#Quiz: How can we use None to do a+b?\n",
    "## Answer : a + b[None]"
   ]
  },
  {
   "cell_type": "markdown",
   "metadata": {},
   "source": [
    "### Final Quiz"
   ]
  },
  {
   "cell_type": "code",
   "execution_count": 135,
   "metadata": {},
   "outputs": [],
   "source": [
    "def sigmoid(x):\n",
    "    return 1./(1. + np.exp(-x))\n",
    "\n",
    "# Define a function that, given M of shape (m,n) and W of shape (4n, n), executes the following:\n",
    "# a Take the first half rows of M\n",
    "# b Take the second half rows of M\n",
    "# c Take the odd-numbered rows of M\n",
    "# d Take the even-numbered rows of M\n",
    "# e Append them horizontally in the listed order so that you obtain a matrix X of shape (m/2, 4n)\n",
    "# f Linearly transform X with W so that you obtain a matrix Y of shape (m/2, n) # Downsizing Dimension\n",
    "# g Put Y through the sigmoid function\n",
    "# h Obtain the sum of the row-wise mean\n",
    "def foo(M, W):\n",
    "    a = M[:int(sh[0]/2)]\n",
    "    b = M[int(sh[0]/2):]\n",
    "    c = M[1:sh[0]:2]\n",
    "    d = M[0:sh[0]:2]\n",
    "    e = np.concatenate([a,b,c,d], axis = 1)\n",
    "    f = np.dot(e, W)\n",
    "    g = sigmoid(f)\n",
    "    h = g.mean(axis = 0).sum()\n",
    "\n",
    "    return h"
   ]
  }
 ],
 "metadata": {
  "kernelspec": {
   "display_name": "Python 3",
   "language": "python",
   "name": "python3"
  },
  "language_info": {
   "codemirror_mode": {
    "name": "ipython",
    "version": 3
   },
   "file_extension": ".py",
   "mimetype": "text/x-python",
   "name": "python",
   "nbconvert_exporter": "python",
   "pygments_lexer": "ipython3",
   "version": "3.8.3"
  }
 },
 "nbformat": 4,
 "nbformat_minor": 4
}
